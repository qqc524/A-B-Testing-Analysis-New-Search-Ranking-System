{
 "cells": [
  {
   "cell_type": "markdown",
   "id": "18d9458a-8243-4d6e-ba20-6fe91ef5f395",
   "metadata": {},
   "source": [
    "<h1 style=\"text-align:center; font-size:40px; color:black;\"> New search ranking system: A/B Testing Analysis </h1>\n"
   ]
  },
  {
   "cell_type": "markdown",
   "id": "8b3f9b5a-cc77-41c4-8e9a-69d8a82ffb95",
   "metadata": {},
   "source": [
    "This project focuses on evaluating a new search ranking system for an online travel agency. The goal is to see if the new system increases booking conversion without making the booking process longer. Using Python, the project analyzes data from an A/B test, including session-level bookings and user-level test groups. The results will show whether the new ranking system has a real impact on user behavior and provide a recommendation based on data."
   ]
  },
  {
   "cell_type": "markdown",
   "id": "7945f71c-9258-40ff-bb41-72a53591c348",
   "metadata": {},
   "source": [
    "<h1 style=\"font-size:32px\">🔬 Data Description </h1>\n",
    "\n",
    "*  **`sessions_data.csv`**\n",
    "\n",
    "| Column                    | Data Type | Description                                                                                         |\n",
    "| ------------------------- | --------- | --------------------------------------------------------------------------------------------------- |\n",
    "| `session_id`              | `string`  | Unique ID for each session (one row per session)                                                    |\n",
    "| `user_id`                 | `string`  | Unique ID for each user (may be missing for non-logged-in users; a user can have multiple sessions) |\n",
    "| `session_start_timestamp` | `string`  | Timestamp when the session started                                                                  |\n",
    "| `booking_timestamp`       | `string`  | Timestamp when a booking was made (missing if no booking occurred)                                  |\n",
    "| `time_to_booking`         | `float`   | Minutes from session start to booking (missing if no booking occurred)                              |\n",
    "| `conversion`              | `integer` | New column: indicates if the session resulted in a booking (1 if booking happened, 0 if not)   \n",
    "\n",
    "</br>\n",
    "\n",
    "* **`users_data.csv`**\n",
    "\n",
    "| Column             | Data Type | Description                                                             |\n",
    "| ------------------ | --------- | ----------------------------------------------------------------------- |\n",
    "| `user_id`          | `string`  | Unique ID for logged-in users only                                      |\n",
    "| `experiment_group` | `string`  | Experiment group: `control` or `variant` (expected roughly 50/50 split) |\n",
    "\n",
    "\n",
    "</br>\n",
    "\n",
    "### Evaluation Criteria\n",
    "\n",
    "* Primary metric: Conversion rate must show a statistically significant increase.\n",
    "\n",
    "* Guardrail metric: Time to booking must either show no significant change or a decrease."
   ]
  },
  {
   "cell_type": "code",
   "execution_count": 16,
   "id": "45255f2c-da76-489d-9c20-41a721b1a5c9",
   "metadata": {
    "executionCancelledAt": null,
    "executionTime": 2391,
    "lastExecutedAt": 1742739962634,
    "lastExecutedByKernel": "46c87fdc-fde0-443d-955e-4d6b6e68a2fc",
    "lastScheduledRunId": null,
    "lastSuccessfullyExecutedCode": "import pandas as pd\nfrom scipy.stats import chisquare\nfrom pingouin import ttest\nfrom statsmodels.stats.proportion import proportions_ztest"
   },
   "outputs": [],
   "source": [
    "import pandas as pd\n",
    "from scipy.stats import chisquare\n",
    "from statsmodels.stats.proportion import proportions_ztest\n",
    "from scipy.stats import ttest_ind"
   ]
  },
  {
   "cell_type": "code",
   "execution_count": 17,
   "id": "556cde14-879d-4894-b188-392b059de898",
   "metadata": {
    "executionCancelledAt": null,
    "executionTime": 64,
    "lastExecutedAt": 1742739962700,
    "lastExecutedByKernel": "46c87fdc-fde0-443d-955e-4d6b6e68a2fc",
    "lastScheduledRunId": null,
    "lastSuccessfullyExecutedCode": "sessions = pd.read_csv('sessions_data.csv')\nusers = pd.read_csv('users_data.csv')"
   },
   "outputs": [],
   "source": [
    "sessions = pd.read_csv('sessions_data.csv')\n",
    "users = pd.read_csv('users_data.csv')"
   ]
  },
  {
   "cell_type": "markdown",
   "id": "0a736afb-b876-4ae8-a053-3e7734ed7365",
   "metadata": {},
   "source": [
    "## About the Dataset"
   ]
  },
  {
   "cell_type": "markdown",
   "id": "177b077d-aa62-450a-aa8a-bc82e05c9411",
   "metadata": {},
   "source": [
    "* `sessions_data.csv`"
   ]
  },
  {
   "cell_type": "code",
   "execution_count": 18,
   "id": "e68d6136-25ec-4aaa-9aa3-a92794324cec",
   "metadata": {
    "executionCancelledAt": null,
    "executionTime": 54,
    "lastExecutedAt": 1742739962756,
    "lastExecutedByKernel": "46c87fdc-fde0-443d-955e-4d6b6e68a2fc",
    "lastScheduledRunId": null,
    "lastSuccessfullyExecutedCode": "sessions.sample(5)",
    "outputsMetadata": {
     "0": {
      "height": 550,
      "tableState": {
       "customFilter": {
        "const": {
         "type": "boolean",
         "valid": true,
         "value": true
        },
        "id": "a9bbce90-820b-4468-915a-1a18b632061b",
        "nodeType": "const"
       },
       "quickFilterText": ""
      },
      "type": "dataFrame"
     }
    }
   },
   "outputs": [
    {
     "data": {
      "text/html": [
       "<div>\n",
       "<style scoped>\n",
       "    .dataframe tbody tr th:only-of-type {\n",
       "        vertical-align: middle;\n",
       "    }\n",
       "\n",
       "    .dataframe tbody tr th {\n",
       "        vertical-align: top;\n",
       "    }\n",
       "\n",
       "    .dataframe thead th {\n",
       "        text-align: right;\n",
       "    }\n",
       "</style>\n",
       "<table border=\"1\" class=\"dataframe\">\n",
       "  <thead>\n",
       "    <tr style=\"text-align: right;\">\n",
       "      <th></th>\n",
       "      <th>session_id</th>\n",
       "      <th>user_id</th>\n",
       "      <th>session_start_timestamp</th>\n",
       "      <th>booking_timestamp</th>\n",
       "      <th>time_to_booking</th>\n",
       "    </tr>\n",
       "  </thead>\n",
       "  <tbody>\n",
       "    <tr>\n",
       "      <th>0</th>\n",
       "      <td>CP0lbAGnb5UNi3Ut</td>\n",
       "      <td>TcCIMrtQ75wHGXVj</td>\n",
       "      <td>2025-01-26 20:02:39.177358627</td>\n",
       "      <td>NaN</td>\n",
       "      <td>NaN</td>\n",
       "    </tr>\n",
       "    <tr>\n",
       "      <th>1</th>\n",
       "      <td>UQAjrPYair63L1p8</td>\n",
       "      <td>TcCIMrtQ75wHGXVj</td>\n",
       "      <td>2025-01-20 16:12:51.536912203</td>\n",
       "      <td>NaN</td>\n",
       "      <td>NaN</td>\n",
       "    </tr>\n",
       "    <tr>\n",
       "      <th>2</th>\n",
       "      <td>9zQrAPxV5oi2SzSa</td>\n",
       "      <td>TcCIMrtQ75wHGXVj</td>\n",
       "      <td>2025-01-28 03:46:40.839362144</td>\n",
       "      <td>NaN</td>\n",
       "      <td>NaN</td>\n",
       "    </tr>\n",
       "    <tr>\n",
       "      <th>3</th>\n",
       "      <td>kkrz1M5vxrQ8wXRZ</td>\n",
       "      <td>GUGVzto9KGqeX3dc</td>\n",
       "      <td>2025-01-25 02:48:50.953303099</td>\n",
       "      <td>NaN</td>\n",
       "      <td>NaN</td>\n",
       "    </tr>\n",
       "    <tr>\n",
       "      <th>4</th>\n",
       "      <td>AKDXZWWFYKViHC27</td>\n",
       "      <td>NaN</td>\n",
       "      <td>2025-01-28 00:30:49.979124308</td>\n",
       "      <td>NaN</td>\n",
       "      <td>NaN</td>\n",
       "    </tr>\n",
       "  </tbody>\n",
       "</table>\n",
       "</div>"
      ],
      "text/plain": [
       "         session_id           user_id        session_start_timestamp  \\\n",
       "0  CP0lbAGnb5UNi3Ut  TcCIMrtQ75wHGXVj  2025-01-26 20:02:39.177358627   \n",
       "1  UQAjrPYair63L1p8  TcCIMrtQ75wHGXVj  2025-01-20 16:12:51.536912203   \n",
       "2  9zQrAPxV5oi2SzSa  TcCIMrtQ75wHGXVj  2025-01-28 03:46:40.839362144   \n",
       "3  kkrz1M5vxrQ8wXRZ  GUGVzto9KGqeX3dc  2025-01-25 02:48:50.953303099   \n",
       "4  AKDXZWWFYKViHC27               NaN  2025-01-28 00:30:49.979124308   \n",
       "\n",
       "  booking_timestamp  time_to_booking  \n",
       "0               NaN              NaN  \n",
       "1               NaN              NaN  \n",
       "2               NaN              NaN  \n",
       "3               NaN              NaN  \n",
       "4               NaN              NaN  "
      ]
     },
     "execution_count": 18,
     "metadata": {},
     "output_type": "execute_result"
    }
   ],
   "source": [
    "sessions.head()"
   ]
  },
  {
   "cell_type": "code",
   "execution_count": 19,
   "id": "9bd05c60-114b-46e3-bd8d-e9248db05a01",
   "metadata": {},
   "outputs": [
    {
     "name": "stdout",
     "output_type": "stream",
     "text": [
      "<class 'pandas.core.frame.DataFrame'>\n",
      "RangeIndex: 16981 entries, 0 to 16980\n",
      "Data columns (total 5 columns):\n",
      " #   Column                   Non-Null Count  Dtype  \n",
      "---  ------                   --------------  -----  \n",
      " 0   session_id               16981 non-null  object \n",
      " 1   user_id                  15283 non-null  object \n",
      " 2   session_start_timestamp  16981 non-null  object \n",
      " 3   booking_timestamp        2844 non-null   object \n",
      " 4   time_to_booking          2844 non-null   float64\n",
      "dtypes: float64(1), object(4)\n",
      "memory usage: 663.4+ KB\n"
     ]
    }
   ],
   "source": [
    "sessions.info()"
   ]
  },
  {
   "cell_type": "markdown",
   "id": "7c673a18-c4d8-4963-9a4d-c61a9da2c520",
   "metadata": {},
   "source": [
    "* `users_data.csv`"
   ]
  },
  {
   "cell_type": "code",
   "execution_count": 20,
   "id": "7c324a26-44fc-4857-ba61-0a4f7e52f2be",
   "metadata": {
    "executionCancelledAt": null,
    "executionTime": 54,
    "lastExecutedAt": 1742739962810,
    "lastExecutedByKernel": "46c87fdc-fde0-443d-955e-4d6b6e68a2fc",
    "lastScheduledRunId": null,
    "lastSuccessfullyExecutedCode": "users.sample(5)",
    "outputsMetadata": {
     "0": {
      "height": 550,
      "tableState": {
       "customFilter": {
        "const": {
         "type": "boolean",
         "valid": true,
         "value": true
        },
        "id": "a9bbce90-820b-4468-915a-1a18b632061b",
        "nodeType": "const"
       },
       "quickFilterText": ""
      },
      "type": "dataFrame"
     }
    }
   },
   "outputs": [
    {
     "data": {
      "text/html": [
       "<div>\n",
       "<style scoped>\n",
       "    .dataframe tbody tr th:only-of-type {\n",
       "        vertical-align: middle;\n",
       "    }\n",
       "\n",
       "    .dataframe tbody tr th {\n",
       "        vertical-align: top;\n",
       "    }\n",
       "\n",
       "    .dataframe thead th {\n",
       "        text-align: right;\n",
       "    }\n",
       "</style>\n",
       "<table border=\"1\" class=\"dataframe\">\n",
       "  <thead>\n",
       "    <tr style=\"text-align: right;\">\n",
       "      <th></th>\n",
       "      <th>user_id</th>\n",
       "      <th>experiment_group</th>\n",
       "    </tr>\n",
       "  </thead>\n",
       "  <tbody>\n",
       "    <tr>\n",
       "      <th>0</th>\n",
       "      <td>TcCIMrtQ75wHGXVj</td>\n",
       "      <td>variant</td>\n",
       "    </tr>\n",
       "    <tr>\n",
       "      <th>1</th>\n",
       "      <td>GUGVzto9KGqeX3dc</td>\n",
       "      <td>variant</td>\n",
       "    </tr>\n",
       "    <tr>\n",
       "      <th>2</th>\n",
       "      <td>uNcuV49WhPJ8C0MH</td>\n",
       "      <td>variant</td>\n",
       "    </tr>\n",
       "    <tr>\n",
       "      <th>3</th>\n",
       "      <td>v2EBIHmOdQfalI6k</td>\n",
       "      <td>variant</td>\n",
       "    </tr>\n",
       "    <tr>\n",
       "      <th>4</th>\n",
       "      <td>wnsKpRB9SE0gTZAq</td>\n",
       "      <td>variant</td>\n",
       "    </tr>\n",
       "  </tbody>\n",
       "</table>\n",
       "</div>"
      ],
      "text/plain": [
       "            user_id experiment_group\n",
       "0  TcCIMrtQ75wHGXVj          variant\n",
       "1  GUGVzto9KGqeX3dc          variant\n",
       "2  uNcuV49WhPJ8C0MH          variant\n",
       "3  v2EBIHmOdQfalI6k          variant\n",
       "4  wnsKpRB9SE0gTZAq          variant"
      ]
     },
     "execution_count": 20,
     "metadata": {},
     "output_type": "execute_result"
    }
   ],
   "source": [
    "users.head()"
   ]
  },
  {
   "cell_type": "code",
   "execution_count": 21,
   "id": "71fc688b-07ef-4105-ae1e-448b777f763d",
   "metadata": {},
   "outputs": [
    {
     "name": "stdout",
     "output_type": "stream",
     "text": [
      "<class 'pandas.core.frame.DataFrame'>\n",
      "RangeIndex: 10000 entries, 0 to 9999\n",
      "Data columns (total 2 columns):\n",
      " #   Column            Non-Null Count  Dtype \n",
      "---  ------            --------------  ----- \n",
      " 0   user_id           10000 non-null  object\n",
      " 1   experiment_group  10000 non-null  object\n",
      "dtypes: object(2)\n",
      "memory usage: 156.4+ KB\n"
     ]
    }
   ],
   "source": [
    "users.info()"
   ]
  },
  {
   "cell_type": "markdown",
   "id": "cd393062-d2f3-4a12-829a-0eed38c2ddf9",
   "metadata": {},
   "source": [
    "## Create the `conversion` column\n",
    "A session counts as a conversion if there’s a booking."
   ]
  },
  {
   "cell_type": "code",
   "execution_count": 22,
   "id": "0c6d5c60-8803-49fe-b0b7-91e3468dd5e6",
   "metadata": {},
   "outputs": [
    {
     "name": "stdout",
     "output_type": "stream",
     "text": [
      "            session_id              booking_timestamp  conversion\n",
      "8739  2a6ChjFLVEWPsc0w                            NaN           0\n",
      "8666  m9flO8JjhVpQmYzm                            NaN           0\n",
      "3602  jQAcLAWOvao51KQR  2025-01-24 13:03:28.243145046           1\n",
      "9191  1Dnm3tlOfIVidQ3w                            NaN           0\n",
      "8539  mT0uBbazVOsyA2HF  2025-01-24 19:58:24.440769616           1\n"
     ]
    }
   ],
   "source": [
    "# Create conversion column\n",
    "sessions['conversion'] = sessions['booking_timestamp'].notna().astype(int)\n",
    "\n",
    "# check\n",
    "print(sessions[['session_id', 'booking_timestamp', 'conversion']].sample(5))"
   ]
  },
  {
   "cell_type": "markdown",
   "id": "8150d22c-ac78-40aa-ad7a-46751a0a0a62",
   "metadata": {},
   "source": [
    "## Merge session data with experiment groups\n",
    "\n",
    "To know which experiment group each session belongs to"
   ]
  },
  {
   "cell_type": "code",
   "execution_count": 23,
   "id": "314c6894-a345-426e-9ff6-7f155374b6d4",
   "metadata": {
    "scrolled": true
   },
   "outputs": [
    {
     "data": {
      "text/html": [
       "<div>\n",
       "<style scoped>\n",
       "    .dataframe tbody tr th:only-of-type {\n",
       "        vertical-align: middle;\n",
       "    }\n",
       "\n",
       "    .dataframe tbody tr th {\n",
       "        vertical-align: top;\n",
       "    }\n",
       "\n",
       "    .dataframe thead th {\n",
       "        text-align: right;\n",
       "    }\n",
       "</style>\n",
       "<table border=\"1\" class=\"dataframe\">\n",
       "  <thead>\n",
       "    <tr style=\"text-align: right;\">\n",
       "      <th></th>\n",
       "      <th>session_id</th>\n",
       "      <th>user_id</th>\n",
       "      <th>session_start_timestamp</th>\n",
       "      <th>booking_timestamp</th>\n",
       "      <th>time_to_booking</th>\n",
       "      <th>conversion</th>\n",
       "      <th>experiment_group</th>\n",
       "    </tr>\n",
       "  </thead>\n",
       "  <tbody>\n",
       "    <tr>\n",
       "      <th>0</th>\n",
       "      <td>CP0lbAGnb5UNi3Ut</td>\n",
       "      <td>TcCIMrtQ75wHGXVj</td>\n",
       "      <td>2025-01-26 20:02:39.177358627</td>\n",
       "      <td>NaN</td>\n",
       "      <td>NaN</td>\n",
       "      <td>0</td>\n",
       "      <td>variant</td>\n",
       "    </tr>\n",
       "    <tr>\n",
       "      <th>1</th>\n",
       "      <td>UQAjrPYair63L1p8</td>\n",
       "      <td>TcCIMrtQ75wHGXVj</td>\n",
       "      <td>2025-01-20 16:12:51.536912203</td>\n",
       "      <td>NaN</td>\n",
       "      <td>NaN</td>\n",
       "      <td>0</td>\n",
       "      <td>variant</td>\n",
       "    </tr>\n",
       "    <tr>\n",
       "      <th>2</th>\n",
       "      <td>9zQrAPxV5oi2SzSa</td>\n",
       "      <td>TcCIMrtQ75wHGXVj</td>\n",
       "      <td>2025-01-28 03:46:40.839362144</td>\n",
       "      <td>NaN</td>\n",
       "      <td>NaN</td>\n",
       "      <td>0</td>\n",
       "      <td>variant</td>\n",
       "    </tr>\n",
       "    <tr>\n",
       "      <th>3</th>\n",
       "      <td>kkrz1M5vxrQ8wXRZ</td>\n",
       "      <td>GUGVzto9KGqeX3dc</td>\n",
       "      <td>2025-01-25 02:48:50.953303099</td>\n",
       "      <td>NaN</td>\n",
       "      <td>NaN</td>\n",
       "      <td>0</td>\n",
       "      <td>variant</td>\n",
       "    </tr>\n",
       "    <tr>\n",
       "      <th>4</th>\n",
       "      <td>AKDXZWWFYKViHC27</td>\n",
       "      <td>NaN</td>\n",
       "      <td>2025-01-28 00:30:49.979124308</td>\n",
       "      <td>NaN</td>\n",
       "      <td>NaN</td>\n",
       "      <td>0</td>\n",
       "      <td>NaN</td>\n",
       "    </tr>\n",
       "  </tbody>\n",
       "</table>\n",
       "</div>"
      ],
      "text/plain": [
       "         session_id           user_id        session_start_timestamp  \\\n",
       "0  CP0lbAGnb5UNi3Ut  TcCIMrtQ75wHGXVj  2025-01-26 20:02:39.177358627   \n",
       "1  UQAjrPYair63L1p8  TcCIMrtQ75wHGXVj  2025-01-20 16:12:51.536912203   \n",
       "2  9zQrAPxV5oi2SzSa  TcCIMrtQ75wHGXVj  2025-01-28 03:46:40.839362144   \n",
       "3  kkrz1M5vxrQ8wXRZ  GUGVzto9KGqeX3dc  2025-01-25 02:48:50.953303099   \n",
       "4  AKDXZWWFYKViHC27               NaN  2025-01-28 00:30:49.979124308   \n",
       "\n",
       "  booking_timestamp  time_to_booking  conversion experiment_group  \n",
       "0               NaN              NaN           0          variant  \n",
       "1               NaN              NaN           0          variant  \n",
       "2               NaN              NaN           0          variant  \n",
       "3               NaN              NaN           0          variant  \n",
       "4               NaN              NaN           0              NaN  "
      ]
     },
     "execution_count": 23,
     "metadata": {},
     "output_type": "execute_result"
    }
   ],
   "source": [
    "# Merge sessions with users on user_id\n",
    "merged_data = sessions.merge(users, on='user_id', how='left')\n",
    "\n",
    "merged_data.head()"
   ]
  },
  {
   "cell_type": "markdown",
   "id": "4dd5293b-b01f-4e78-b624-2d1a25773cdd",
   "metadata": {},
   "source": [
    "## SRM Test (Sample Ratio Mismatch) \n",
    "\n",
    "Group Balance Check. \n",
    "If one group is much larger than the other, the experiment results could be biased."
   ]
  },
  {
   "cell_type": "code",
   "execution_count": 24,
   "id": "db698f6c-a741-4f6f-aecb-93028ab1bcd9",
   "metadata": {},
   "outputs": [
    {
     "name": "stdout",
     "output_type": "stream",
     "text": [
      "SRM Test - group counts:\n",
      " experiment_group\n",
      "variant    7653\n",
      "control    7630\n",
      "Name: count, dtype: int64\n",
      "SRM Test p-value: 0.8524\n"
     ]
    }
   ],
   "source": [
    "groups_count = merged_data['experiment_group'].value_counts()\n",
    "\n",
    "# Total of observed counts\n",
    "total_count = groups_count.sum()\n",
    "\n",
    "# Expected counts = equal split of observed counts\n",
    "expected_counts = [total_count/2, total_count/2]\n",
    "\n",
    "from scipy.stats import chisquare\n",
    "srm_chi2_stat, srm_chi2_pval = chisquare(f_obs=groups_count, f_exp=expected_counts)\n",
    "print(\"SRM Test - group counts:\\n\", groups_count)\n",
    "print(f\"SRM Test p-value: {srm_chi2_pval:.4f}\")\n"
   ]
  },
  {
   "cell_type": "markdown",
   "id": "644ce87e-02a6-4716-8fed-2887167ae4f7",
   "metadata": {},
   "source": [
    "---\n",
    "\n",
    "* The two groups are very close in size (almost 50/50).\n",
    "* p-value is much greater than 0.05: the difference in group sizes is not statistically significant.\n",
    "\n",
    "The experiment is **balanced**, so the A/B test results are reliable."
   ]
  },
  {
   "cell_type": "markdown",
   "id": "25aad512-d63d-4483-9ae6-30df015fcb17",
   "metadata": {},
   "source": [
    "## Effect Size Calculation\n",
    "\n",
    "Measure how big the difference is between variant and control, not just whether it’s statistically significant."
   ]
  },
  {
   "cell_type": "code",
   "execution_count": 25,
   "id": "6559c290-4b65-45be-b94b-82d556b99fff",
   "metadata": {},
   "outputs": [
    {
     "name": "stdout",
     "output_type": "stream",
     "text": [
      "Conversion rates:\n",
      " experiment_group\n",
      "control    0.159240\n",
      "variant    0.181889\n",
      "Name: conversion, dtype: float64\n",
      "Effect size (conversion): 0.1422\n",
      "\n"
     ]
    }
   ],
   "source": [
    "# Function to calculate effect size\n",
    "def estimate_effect_size(df, metric):\n",
    "    \"\"\"\n",
    "    Calculate relative effect size: (variant_avg / control_avg) - 1\n",
    "    \"\"\"\n",
    "    avg_per_group = df.groupby('experiment_group')[metric].mean()\n",
    "    effect_size = avg_per_group['variant'] / avg_per_group['control'] - 1\n",
    "    return effect_size\n",
    "\n",
    "# 1️Conversion (primary metric)\n",
    "effect_size_conversion = estimate_effect_size(merged_data, 'conversion')\n",
    "conversion_rate = merged_data.groupby('experiment_group')['conversion'].mean()\n",
    "print(\"Conversion rates:\\n\", conversion_rate)\n",
    "print(f\"Effect size (conversion): {effect_size_conversion:.4f}\\n\")"
   ]
  },
  {
   "cell_type": "markdown",
   "id": "e75a846c-96a3-407f-9979-8a6aaa70adef",
   "metadata": {},
   "source": [
    "---\n",
    "\n",
    "* **Effect size: 0.1422**: this means the variant **increased bookings** by about 14.2% relative to control. \n",
    "\n",
    "The new search ranking system is **helping more** users complete bookings..1422"
   ]
  },
  {
   "cell_type": "code",
   "execution_count": 26,
   "id": "865088cf-38e4-4f26-a8d5-c07de718a7bf",
   "metadata": {},
   "outputs": [
    {
     "name": "stdout",
     "output_type": "stream",
     "text": [
      "Average time to booking:\n",
      " experiment_group\n",
      "control    15.012404\n",
      "variant    14.894029\n",
      "Name: time_to_booking, dtype: float64\n",
      "Effect size (time to booking): -0.0079\n"
     ]
    }
   ],
   "source": [
    "## Time to booking\n",
    "effect_size_time = estimate_effect_size(merged_data, 'time_to_booking')\n",
    "time_avg = merged_data.groupby('experiment_group')['time_to_booking'].mean()\n",
    "print(\"Average time to booking:\\n\", time_avg)\n",
    "print(f\"Effect size (time to booking): {effect_size_time:.4f}\")"
   ]
  },
  {
   "cell_type": "markdown",
   "id": "9ef1dd9b-748d-4ab1-b9db-e1a02de5d797",
   "metadata": {},
   "source": [
    "---\n",
    "\n",
    "* **Effect size: -0.0079**: this means the variant slightly reduced the time to book by about 0.79%, which is very small. \n",
    "\n",
    "The new search ranking system **does not make booking slower**, which is good because we don’t want to harm the user experience.\n",
    "\n",
    "A negative effect size here is actually **positive**, because it means users book slightly faster."
   ]
  },
  {
   "cell_type": "markdown",
   "id": "eecb593d-d6f7-476f-8874-aec78c6d5b61",
   "metadata": {},
   "source": [
    "# 📝  Summary statistics for A/B groups\n",
    "Check conversion rates and average time to booking for control and variant groups."
   ]
  },
  {
   "cell_type": "code",
   "execution_count": 27,
   "id": "bc56addc-8b23-460f-87fa-45de7d383432",
   "metadata": {},
   "outputs": [
    {
     "name": "stdout",
     "output_type": "stream",
     "text": [
      "Conversion rates:\n",
      " experiment_group\n",
      "control    0.159240\n",
      "variant    0.181889\n",
      "Name: conversion, dtype: float64\n"
     ]
    }
   ],
   "source": [
    "# Conversion rate by experiment group\n",
    "conversion_summary = merged_data.groupby('experiment_group')['conversion'].mean()\n",
    "print(\"Conversion rates:\\n\", conversion_summary)"
   ]
  },
  {
   "cell_type": "markdown",
   "id": "0dd171e5-56eb-42b1-bc46-0f3cedab9cd4",
   "metadata": {},
   "source": [
    "---\n",
    "\n",
    "Conversion rate: Variant (0.182) is **higher than** control (0.159). This suggests the new ranking system may improve bookings."
   ]
  },
  {
   "cell_type": "code",
   "execution_count": 28,
   "id": "e52ccc49-677b-4639-865a-e4d374771b64",
   "metadata": {},
   "outputs": [
    {
     "name": "stdout",
     "output_type": "stream",
     "text": [
      "\n",
      "Average time to booking:\n",
      " experiment_group\n",
      "control    15.012404\n",
      "variant    14.894029\n",
      "Name: time_to_booking, dtype: float64\n"
     ]
    }
   ],
   "source": [
    "# Average time to booking\n",
    "time_summary = merged_data.groupby('experiment_group')['time_to_booking'].mean()\n",
    "print(\"\\nAverage time to booking:\\n\", time_summary)"
   ]
  },
  {
   "cell_type": "markdown",
   "id": "b3825ee6-5535-46ec-9fb3-6642b6227593",
   "metadata": {},
   "source": [
    "---\n",
    "\n",
    "Time to booking: Variant (14.89 min) is **slightly lower than** control (15.01 min). This indicates the new system doesn’t slow down the booking process."
   ]
  },
  {
   "cell_type": "markdown",
   "id": "0f8bb911-a29f-4c9d-ac67-d3fabe366ec3",
   "metadata": {},
   "source": [
    "# 📝 Statistical Testing\n",
    "\n",
    "\n",
    "To testing if the differences are statistically significant. \n"
   ]
  },
  {
   "cell_type": "markdown",
   "id": "cabd1ede-188d-4efd-b922-0ca2064d14e3",
   "metadata": {},
   "source": [
    "#### a. Conversion rate (Did more people book?)\n",
    "\n",
    "Using `z-test` for proportions\n",
    "\n",
    "* If the p-value < 0.05, it means the improvement is likely real.\n",
    "* If p-value ≥ 0.05, it might just be luck."
   ]
  },
  {
   "cell_type": "code",
   "execution_count": 29,
   "id": "e1ed1a7e-f984-4363-9c5c-af104a6d96d0",
   "metadata": {},
   "outputs": [
    {
     "name": "stdout",
     "output_type": "stream",
     "text": [
      "Z-statistic: -3.722, p-value: 0.000\n"
     ]
    }
   ],
   "source": [
    "# Count conversions and total sessions per group\n",
    "conversion_counts = merged_data.groupby('experiment_group')['conversion'].sum().values\n",
    "total_sessions = merged_data.groupby('experiment_group')['conversion'].count().values\n",
    "\n",
    "\n",
    "z_stat, p_value = proportions_ztest(conversion_counts, total_sessions)\n",
    "print(f\"Z-statistic: {z_stat:.3f}, p-value: {p_value:.3f}\")"
   ]
  },
  {
   "cell_type": "markdown",
   "id": "ef88504d-28bf-494f-b574-94f1c129c61d",
   "metadata": {},
   "source": [
    "---\n",
    "\n",
    "* **Z-statistic = -3.722**: Shows how big the difference is between control and variant, compared to random chance.\n",
    "* **p-value = 0.000**: this small (< 0.05) means the difference is very unlikely to be random.\n",
    "\n",
    "This means the new search ranking system really **increased the number of bookings**."
   ]
  },
  {
   "cell_type": "markdown",
   "id": "9220055c-000c-484a-86fe-82b87980fb31",
   "metadata": {},
   "source": [
    "#### b. Time to booking (Did it take longer or shorter?)"
   ]
  },
  {
   "cell_type": "code",
   "execution_count": 30,
   "id": "92f77413-4ea7-4773-acaf-a0a425278ff2",
   "metadata": {},
   "outputs": [
    {
     "name": "stdout",
     "output_type": "stream",
     "text": [
      "T-statistic: 0.618, p-value: 0.536\n"
     ]
    }
   ],
   "source": [
    "# Filter sessions with a booking\n",
    "booking_data = merged_data.dropna(subset=['time_to_booking'])\n",
    "\n",
    "# Split by group\n",
    "control_time = booking_data[booking_data['experiment_group'] == 'control']['time_to_booking']\n",
    "variant_time = booking_data[booking_data['experiment_group'] == 'variant']['time_to_booking']\n",
    "\n",
    "\n",
    "t_stat, t_p_value = ttest_ind(control_time, variant_time, equal_var=False)\n",
    "print(f\"T-statistic: {t_stat:.3f}, p-value: {t_p_value:.3f}\")"
   ]
  },
  {
   "cell_type": "markdown",
   "id": "222370a5-bc86-470e-9de8-15a678eb8698",
   "metadata": {},
   "source": [
    "---\n",
    "\n",
    "* **T-statistic = 0.618**: Shows the difference between control and variant in terms of variability.\n",
    "\n",
    "* **p-value = 0.536** It is much larger than 0.05, which means the small difference we saw (15.01-> 14.89 min) is likely just random.\n",
    "\n",
    "The new ranking system **did not** make users take longer to book. The time to booking stayed basically the same."
   ]
  },
  {
   "cell_type": "markdown",
   "id": "e9b4d1bc-0bcd-4bcf-8cda-9bb779e6de1c",
   "metadata": {},
   "source": [
    "## Overall Conclusion \n",
    "\n",
    "* Conversion rate: Significantly improved\n",
    "\n",
    "* Time to booking: No negative impact\n",
    "\n",
    "The new search ranking system can be **apply to all users**, because it increases bookings without slowing down the booking process."
   ]
  }
 ],
 "metadata": {
  "colab": {
   "name": "Welcome to DataCamp Workspaces.ipynb",
   "provenance": []
  },
  "editor": "DataLab",
  "kernelspec": {
   "display_name": "Python 3 (ipykernel)",
   "language": "python",
   "name": "python3"
  },
  "language_info": {
   "codemirror_mode": {
    "name": "ipython",
    "version": 3
   },
   "file_extension": ".py",
   "mimetype": "text/x-python",
   "name": "python",
   "nbconvert_exporter": "python",
   "pygments_lexer": "ipython3",
   "version": "3.12.4"
  }
 },
 "nbformat": 4,
 "nbformat_minor": 5
}
